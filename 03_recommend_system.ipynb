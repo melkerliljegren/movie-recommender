{
 "cells": [
  {
   "cell_type": "markdown",
   "id": "18fe54aa",
   "metadata": {},
   "source": [
    "# Movie Recommendation System\n",
    "\n",
    "In this notebook we use the trained collaborative filtering model to generate personalized movie recommendations."
   ]
  },
  {
   "cell_type": "code",
   "execution_count": null,
   "id": "bb4e691a",
   "metadata": {},
   "outputs": [],
   "source": [
    "import tensorflow as tf\n",
    "import pandas as pd"
   ]
  },
  {
   "cell_type": "markdown",
   "id": "7016ebad",
   "metadata": {},
   "source": [
    "## Step 1: Load and preprocess the dataset\n",
    "\n",
    "We load the preprocessed dataset and ensure that both `userId` and `movieId` are strings.  \n",
    "This is required for consistency with the trained model."
   ]
  },
  {
   "cell_type": "code",
   "execution_count": null,
   "id": "3f794858",
   "metadata": {},
   "outputs": [],
   "source": [
    "ratings_df = pd.read_csv(\"ratings_meta_small.csv\")\n",
    "ratings_df[\"userId\"] = ratings_df[\"userId\"].astype(str)\n",
    "ratings_df[\"movieId\"] = ratings_df[\"movieId\"].astype(str)"
   ]
  },
  {
   "cell_type": "markdown",
   "id": "ec96077d",
   "metadata": {},
   "source": [
    " ## Step 2: Load the trained model\n",
    "\n",
    "We load the saved Keras model that was trained in the previous notebook."
   ]
  },
  {
   "cell_type": "code",
   "execution_count": 108,
   "id": "9a94223f",
   "metadata": {},
   "outputs": [],
   "source": [
    "model = tf.keras.models.load_model(\"recommender_model2.keras\")"
   ]
  },
  {
   "cell_type": "markdown",
   "id": "1919200e",
   "metadata": {},
   "source": [
    "## Step 3: Define the recommendation function\n",
    "\n",
    "The function `recommend_movies` does the following:\n",
    "\n",
    "1. Converts the `userId` to string for consistency.  \n",
    "2. Collects all movies the user has already rated (`seen`).  \n",
    "3. Builds a candidate set of unique movies the user has **not** rated yet.  \n",
    "4. Creates TensorFlow string tensors for user- and movieIDs.  \n",
    "5. Uses the trained model to predict ratings for all candidate movies.  \n",
    "6. Adds predictions as a new column in the candidates DataFrame.  \n",
    "7. Sorts by predicted rating and selects the top-N recommendations.  \n",
    "8. Returns only the relevant columns (`movieId`, `title`, `pred_rating`).  \n",
    "\n",
    "This function generates personalized recommendations by filtering out already-seen movies and ranking unseen ones."
   ]
  },
  {
   "cell_type": "code",
   "execution_count": 109,
   "id": "129a111c",
   "metadata": {},
   "outputs": [],
   "source": [
    "def recommend_movies(model, userId, ratings_df, top_n=5):\n",
    "    userId = str(userId)\n",
    "\n",
    "\n",
    "    # Movies already rated by the user\n",
    "    seen = ratings_df[ratings_df[\"userId\"].astype(str) == userId][\"movieId\"].astype(str).tolist()\n",
    "\n",
    "    # Unique candidate movies\n",
    "    candidates = ratings_df.drop_duplicates(subset=\"movieId\")\n",
    "    candidates = candidates[~candidates[\"movieId\"].astype(str).isin(seen)]\n",
    "\n",
    "    # Inputs (TensorFlow tensors with dtype=tf.string)\n",
    "    movieIds = tf.constant(candidates[\"movieId\"].astype(str).tolist(), dtype=tf.string)\n",
    "    userIds = tf.constant([userId] * len(movieIds), dtype=tf.string)\n",
    "\n",
    "    # Predictions\n",
    "    preds = model.predict({\"userId\": userIds, \"movieId\": movieIds}, verbose=0).flatten()\n",
    "\n",
    "    # Reset index to keep iloc aligned with preds\n",
    "    candidates = candidates.reset_index(drop=True)\n",
    "\n",
    "    # Add predictions as a new column\n",
    "    candidates[\"pred_rating\"] = preds\n",
    "\n",
    "    # Sort descending by predicted rating\n",
    "    recommended = candidates.sort_values(\"pred_rating\", ascending=False).head(top_n)\n",
    "\n",
    "    # Keep only the relevant columns\n",
    "    recommended = recommended[[\"movieId\", \"title\", \"pred_rating\"]]\n",
    "\n",
    "    return recommended"
   ]
  },
  {
   "cell_type": "markdown",
   "id": "606fbff0",
   "metadata": {},
   "source": [
    "## Step 4: Test the recommender system on a specific user\n",
    "\n",
    "We generate the top-5 recommendations for `userId=1`."
   ]
  },
  {
   "cell_type": "code",
   "execution_count": 116,
   "id": "fb5d2e81",
   "metadata": {},
   "outputs": [
    {
     "name": "stdout",
     "output_type": "stream",
     "text": [
      "                 title  pred_rating\n",
      "1              Yojimbo     3.765936\n",
      "2        The Godfather     3.746414\n",
      "3           Fight Club     3.711394\n",
      "4  A Face in the Crowd     3.709913\n",
      "5  Hachi: A Dog's Tale     3.683201\n"
     ]
    }
   ],
   "source": [
    "recs = recommend_movies(model, userId=\"1\", ratings_df=ratings_df, top_n=5)\n",
    "recs = recs.reset_index(drop=True)\n",
    "recs.index = recs.index + 1\n",
    "print(recs[['title', 'pred_rating']])\n"
   ]
  },
  {
   "cell_type": "markdown",
   "id": "fef98f42",
   "metadata": {},
   "source": [
    "## Step 5: Generate recommendations for random users\n",
    "\n",
    "We test the recommender system on several randomly selected users to see how recommendations differ between them."
   ]
  },
  {
   "cell_type": "code",
   "execution_count": 111,
   "id": "25dbbd7f",
   "metadata": {},
   "outputs": [
    {
     "name": "stdout",
     "output_type": "stream",
     "text": [
      "\n",
      "===== User 272 =====\n",
      "     movieId                 title  pred_rating\n",
      "6460    4696  Zorro, The Gay Blade     4.495519\n",
      "4294    3739   Trouble in Paradise     4.480273\n",
      "1986    7116            Diabolique     4.478728\n",
      "2368    6669                 Ikiru     4.455186\n",
      "2962     838                  Emma     4.452141\n",
      "\n",
      "===== User 548 =====\n",
      "     movieId                                                       title  \\\n",
      "869     3030                                                     Yojimbo   \n",
      "6681    4783  The Endurance: Shackleton's Legendary Antarctic Expedition   \n",
      "6361    4696                                        Zorro, The Gay Blade   \n",
      "1910    7116                                                  Diabolique   \n",
      "1696  109374                                    The Grand Budapest Hotel   \n",
      "\n",
      "      pred_rating  \n",
      "869      4.314000  \n",
      "6681     4.293063  \n",
      "6361     4.284800  \n",
      "1910     4.258125  \n",
      "1696     4.248127  \n",
      "\n",
      "===== User 136 =====\n",
      "     movieId                 title  pred_rating\n",
      "2957     838                  Emma     4.596322\n",
      "7079    5121              Stroszek     4.546376\n",
      "1932    3676            Eraserhead     4.543632\n",
      "6449    4696  Zorro, The Gay Blade     4.525560\n",
      "6409    1428            Angel Baby     4.519508\n",
      "\n",
      "===== User 83 =====\n",
      "     movieId                         title  pred_rating\n",
      "883     3030                       Yojimbo     4.649667\n",
      "6908   55069  4 Months, 3 Weeks and 2 Days     4.625915\n",
      "763     1860                     Character     4.590436\n",
      "677     1209  Once Upon a Time in the West     4.574664\n",
      "2023     898        The Philadelphia Story     4.572445\n",
      "\n",
      "===== User 324 =====\n",
      "     movieId                      title  pred_rating\n",
      "6350    4696       Zorro, The Gay Blade     4.243249\n",
      "1894    7116                 Diabolique     4.218831\n",
      "4186    3739        Trouble in Paradise     4.170771\n",
      "2245    5114  The Bad and the Beautiful     4.166427\n",
      "2861     838                       Emma     4.159270\n"
     ]
    }
   ],
   "source": [
    "import random\n",
    "\n",
    "unique_users = ratings_df[\"userId\"].unique()\n",
    "\n",
    "for x in range(5):\n",
    "    uid = random.choice(unique_users)\n",
    "    print(f\"\\n===== User {uid} =====\")\n",
    "    print(recommend_movies(model, userId=uid, ratings_df=ratings_df, top_n=5))"
   ]
  },
  {
   "cell_type": "markdown",
   "id": "eded87d6",
   "metadata": {},
   "source": []
  }
 ],
 "metadata": {
  "kernelspec": {
   "display_name": ".venv",
   "language": "python",
   "name": "python3"
  },
  "language_info": {
   "codemirror_mode": {
    "name": "ipython",
    "version": 3
   },
   "file_extension": ".py",
   "mimetype": "text/x-python",
   "name": "python",
   "nbconvert_exporter": "python",
   "pygments_lexer": "ipython3",
   "version": "3.12.10"
  }
 },
 "nbformat": 4,
 "nbformat_minor": 5
}
