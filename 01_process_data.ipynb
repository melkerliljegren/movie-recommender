{
 "cells": [
  {
   "cell_type": "markdown",
   "id": "0f551a81",
   "metadata": {},
   "source": [
    "# Data preprocessing\n",
    "In this notebook, we prepare the data that will be used to train the recommendation system."
   ]
  },
  {
   "cell_type": "code",
   "execution_count": 1,
   "id": "4c24c67d",
   "metadata": {},
   "outputs": [],
   "source": [
    "import pandas as pd"
   ]
  },
  {
   "cell_type": "markdown",
   "id": "c5dd4416",
   "metadata": {},
   "source": [
    "## Step 1: Load data\n",
    "We load three CSV files from The Movies Dataset: ratings, links, and movie metadata."
   ]
  },
  {
   "cell_type": "code",
   "execution_count": 2,
   "id": "5932bb45",
   "metadata": {},
   "outputs": [],
   "source": [
    "movies_df = pd.read_csv('The_Movies_Dataset/movies_metadata.csv', low_memory=False, dtype={'id' : 'str'})\n",
    "ratings_df = pd.read_csv('The_Movies_Dataset/ratings_small.csv')\n",
    "links_df = pd.read_csv('The_Movies_Dataset/links_small.csv')"
   ]
  },
  {
   "cell_type": "markdown",
   "id": "5992a4aa",
   "metadata": {},
   "source": [
    "## Step 2: Convert IDs\n",
    "Movies are identified with `id` (`tmdbId`) in the metadata. We convert these to numeric format to make it possible to merge the tables."
   ]
  },
  {
   "cell_type": "code",
   "execution_count": 3,
   "id": "803c7385",
   "metadata": {},
   "outputs": [],
   "source": [
    "movies_df['id'] = pd.to_numeric(movies_df['id'], errors='coerce')"
   ]
  },
  {
   "cell_type": "markdown",
   "id": "a5ce7ab1",
   "metadata": {},
   "source": [
    "## Step 3: Merge tables\n",
    "Here we merge the ratings data with the movie titles from the metadata. This gives us a dataset where each row include userId, movieId, rating, and title."
   ]
  },
  {
   "cell_type": "code",
   "execution_count": 4,
   "id": "00b72188",
   "metadata": {},
   "outputs": [],
   "source": [
    "ratings_meta = ratings_df.merge(links_df[['movieId', 'tmdbId']], on='movieId', how='left')\n",
    "ratings_meta = ratings_meta.merge(movies_df[['id', 'title']], left_on='tmdbId', right_on='id', how='left')"
   ]
  },
  {
   "cell_type": "markdown",
   "id": "3b3f08d3",
   "metadata": {},
   "source": [
    "## Step 4: Clean NaN and duplicates\n",
    "We remove rows where the movie title is missing (since they cannot be used in recommendations) and drop any duplicates. We also remove unnecessary columns such as timestamp, tmdbId, and id."
   ]
  },
  {
   "cell_type": "code",
   "execution_count": 5,
   "id": "03bb2c13",
   "metadata": {},
   "outputs": [],
   "source": [
    "ratings_meta = ratings_meta.drop_duplicates()\n",
    "ratings_meta = ratings_meta.drop(columns=[\"timestamp\", \"tmdbId\", \"id\"])\n",
    "ratings_meta = ratings_meta.dropna(subset=[\"title\"])"
   ]
  },
  {
   "cell_type": "markdown",
   "id": "63232583",
   "metadata": {},
   "source": [
    "## Step 5: Save processed dataset\n",
    "We save the result as `ratings_meta_small.csv`, which will be used in the next step when training the model."
   ]
  },
  {
   "cell_type": "code",
   "execution_count": 6,
   "id": "8530fc87",
   "metadata": {},
   "outputs": [],
   "source": [
    "ratings_meta.to_csv('ratings_meta_small.csv', index=False)"
   ]
  }
 ],
 "metadata": {
  "kernelspec": {
   "display_name": ".venv",
   "language": "python",
   "name": "python3"
  },
  "language_info": {
   "codemirror_mode": {
    "name": "ipython",
    "version": 3
   },
   "file_extension": ".py",
   "mimetype": "text/x-python",
   "name": "python",
   "nbconvert_exporter": "python",
   "pygments_lexer": "ipython3",
   "version": "3.12.10"
  }
 },
 "nbformat": 4,
 "nbformat_minor": 5
}
